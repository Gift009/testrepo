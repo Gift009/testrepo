{
 "cells": [
  {
   "cell_type": "markdown",
   "id": "f85541da",
   "metadata": {},
   "source": [
    "# TITLE: Data Science Tool and Ecosystem"
   ]
  },
  {
   "cell_type": "markdown",
   "id": "120db0dd",
   "metadata": {},
   "source": [
    "# In this notebook, Data Science Tool and Ecosystem are summarized."
   ]
  },
  {
   "cell_type": "markdown",
   "id": "fe6e1234",
   "metadata": {},
   "source": [
    "Some of te popular languages that Data Scientists use are:\n",
    "\n",
    "    1. python\n",
    "    2. R program\n",
    "    3. SQL"
   ]
  },
  {
   "cell_type": "markdown",
   "id": "59d5a3a2",
   "metadata": {},
   "source": [
    "Some of the commonly used libraries used by Data Scientists include:\n",
    "\n",
    "    1. Matplotlib\n",
    "    2. Tensor Flow\n",
    "    3. Pytorch\n",
    "    \n",
    "    "
   ]
  },
  {
   "cell_type": "code",
   "execution_count": 2,
   "id": "a2757d79",
   "metadata": {},
   "outputs": [
    {
     "name": "stdout",
     "output_type": "stream",
     "text": [
      "      Name  Age      City\n",
      "0     John   25  New York\n",
      "1    Emily   30    London\n",
      "2  Michael   35     Paris\n"
     ]
    }
   ],
   "source": [
    "import pandas as pd\n",
    "\n",
    "data = {'Name': ['John', 'Emily', 'Michael'], 'Age': [25, 30, 35], 'City': ['New York', 'London', 'Paris']}\n",
    "df = pd.DataFrame(data)\n",
    "print(df)"
   ]
  },
  {
   "cell_type": "code",
   "execution_count": null,
   "id": "b51068c5",
   "metadata": {},
   "outputs": [],
   "source": [
    "import pandas as pd \n",
    "column ={'Data Science Tools':[]}\n"
   ]
  }
 ],
 "metadata": {
  "kernelspec": {
   "display_name": "Python 3 (ipykernel)",
   "language": "python",
   "name": "python3"
  },
  "language_info": {
   "codemirror_mode": {
    "name": "ipython",
    "version": 3
   },
   "file_extension": ".py",
   "mimetype": "text/x-python",
   "name": "python",
   "nbconvert_exporter": "python",
   "pygments_lexer": "ipython3",
   "version": "3.10.9"
  }
 },
 "nbformat": 4,
 "nbformat_minor": 5
}
